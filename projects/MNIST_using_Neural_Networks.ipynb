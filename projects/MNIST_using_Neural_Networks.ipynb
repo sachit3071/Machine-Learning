{
  "nbformat": 4,
  "nbformat_minor": 5,
  "metadata": {
    "kernelspec": {
      "display_name": "Python 3",
      "language": "python",
      "name": "python3"
    },
    "language_info": {
      "codemirror_mode": {
        "name": "ipython",
        "version": 3
      },
      "file_extension": ".py",
      "mimetype": "text/x-python",
      "name": "python",
      "nbconvert_exporter": "python",
      "pygments_lexer": "ipython3",
      "version": "3.9.1"
    },
    "colab": {
      "name": "MNIST using Neural Networks.ipynb",
      "provenance": [],
      "collapsed_sections": [],
      "include_colab_link": true
    }
  },
  "cells": [
    {
      "cell_type": "markdown",
      "metadata": {
        "id": "view-in-github",
        "colab_type": "text"
      },
      "source": [
        "<a href=\"https://colab.research.google.com/github/sachit3071/Machine-Learning/blob/main/MNIST_using_Neural_Networks.ipynb\" target=\"_parent\"><img src=\"https://colab.research.google.com/assets/colab-badge.svg\" alt=\"Open In Colab\"/></a>"
      ]
    },
    {
      "cell_type": "markdown",
      "metadata": {
        "id": "106f672a"
      },
      "source": [
        "# Imports"
      ],
      "id": "106f672a"
    },
    {
      "cell_type": "code",
      "metadata": {
        "id": "a7f07499"
      },
      "source": [
        "#Standard imports\n",
        "import os\n",
        "\n",
        "#Third-party imports\n",
        "import pandas as pd\n",
        "import numpy as np\n",
        "import matplotlib.pyplot as plt\n",
        "from sklearn.datasets import fetch_openml\n",
        "import seaborn as sns\n",
        "from sklearn.linear_model import LogisticRegression\n",
        "from sklearn.model_selection import train_test_split, cross_val_score,cross_val_predict\n",
        "from collections import Counter\n",
        "import tensorflow as tf\n",
        "from collections import Counter\n",
        "from sklearn.metrics import confusion_matrix\n"
      ],
      "id": "a7f07499",
      "execution_count": 35,
      "outputs": []
    },
    {
      "cell_type": "markdown",
      "metadata": {
        "id": "cbfa47ac"
      },
      "source": [
        "### Load data"
      ],
      "id": "cbfa47ac"
    },
    {
      "cell_type": "code",
      "metadata": {
        "id": "5e4919ef"
      },
      "source": [
        "X , y  = fetch_openml('mnist_784' , return_X_y=True)"
      ],
      "id": "5e4919ef",
      "execution_count": 36,
      "outputs": []
    },
    {
      "cell_type": "code",
      "metadata": {
        "id": "5edd31f7"
      },
      "source": [
        "x_train = pd.DataFrame(X)\n",
        "y_train = pd.DataFrame(y)"
      ],
      "id": "5edd31f7",
      "execution_count": 37,
      "outputs": []
    },
    {
      "cell_type": "code",
      "metadata": {
        "id": "Z2Y0nPu7bME3"
      },
      "source": [
        "x_train = x_train.astype(int)\n",
        "y_train = y_train.astype(int)"
      ],
      "id": "Z2Y0nPu7bME3",
      "execution_count": 38,
      "outputs": []
    },
    {
      "cell_type": "markdown",
      "metadata": {
        "id": "25ebc83e"
      },
      "source": [
        "### Exploratory Data Analysis(EDA)"
      ],
      "id": "25ebc83e"
    },
    {
      "cell_type": "code",
      "metadata": {
        "id": "65536aaf",
        "colab": {
          "base_uri": "https://localhost:8080/",
          "height": 272
        },
        "outputId": "3f2e67db-7941-4e75-a89a-253bfd2ccc67"
      },
      "source": [
        "plt.imshow(x_train.iloc[17222].values.reshape(28,28), cmap='Greys',  interpolation='nearest')\n",
        "plt.grid(False)\n",
        "plt.colorbar()\n",
        "plt.xticks([])\n",
        "plt.yticks([])\n",
        "plt.show"
      ],
      "id": "65536aaf",
      "execution_count": 39,
      "outputs": [
        {
          "output_type": "execute_result",
          "data": {
            "text/plain": [
              "<function matplotlib.pyplot.show>"
            ]
          },
          "metadata": {
            "tags": []
          },
          "execution_count": 39
        },
        {
          "output_type": "display_data",
          "data": {
            "image/png": "[encoded data removed]",
            "text/plain": [
              "<Figure size 432x288 with 2 Axes>"
            ]
          },
          "metadata": {
            "tags": [],
            "needs_background": "light"
          }
        }
      ]
    },
    {
      "cell_type": "code",
      "metadata": {
        "id": "c63846c5"
      },
      "source": [
        "# def plot_ten_img(xt,yt):\n",
        "#     fig, axes = plt.subplots(10,10,figsize=(10,10))\n",
        "#     for i in range(10):\n",
        "#         images = xt[i==yt].iloc[:10].values\n",
        "#         for j, img in enumerate(images):\n",
        "#             axes[i,j].imshow(img.reshape(28,28),cmap=\"Greys\")\n",
        "#             axes[i,j].set_xticks([])\n",
        "#             axes[i,j].set_yticks([])\n",
        "#     plt.show()\n",
        "# plot_ten_img(x_train,y_train)"
      ],
      "id": "c63846c5",
      "execution_count": 40,
      "outputs": []
    },
    {
      "cell_type": "markdown",
      "metadata": {
        "id": "497fb5b6"
      },
      "source": [
        "# Logistic Regression"
      ],
      "id": "497fb5b6"
    },
    {
      "cell_type": "code",
      "metadata": {
        "id": "d94df1a6",
        "colab": {
          "base_uri": "https://localhost:8080/"
        },
        "outputId": "91a8863a-189b-4327-a74d-74273050b681"
      },
      "source": [
        "xt,xv,yt,yv=train_test_split(x_train, y_train, test_size=0.20)\n",
        "clf = LogisticRegression(max_iter=200)\n",
        "yt = yt.astype(int)\n",
        "yv = yv.astype(int)\n",
        "clf.fit(xt,yt)"
      ],
      "id": "d94df1a6",
      "execution_count": 41,
      "outputs": [
        {
          "output_type": "stream",
          "text": [
            "/usr/local/lib/python3.7/dist-packages/sklearn/utils/validation.py:760: DataConversionWarning: A column-vector y was passed when a 1d array was expected. Please change the shape of y to (n_samples, ), for example using ravel().\n",
            "  y = column_or_1d(y, warn=True)\n",
            "/usr/local/lib/python3.7/dist-packages/sklearn/linear_model/_logistic.py:940: ConvergenceWarning: lbfgs failed to converge (status=1):\n",
            "STOP: TOTAL NO. of ITERATIONS REACHED LIMIT.\n",
            "\n",
            "Increase the number of iterations (max_iter) or scale the data as shown in:\n",
            "    https://scikit-learn.org/stable/modules/preprocessing.html\n",
            "Please also refer to the documentation for alternative solver options:\n",
            "    https://scikit-learn.org/stable/modules/linear_model.html#logistic-regression\n",
            "  extra_warning_msg=_LOGISTIC_SOLVER_CONVERGENCE_MSG)\n"
          ],
          "name": "stderr"
        },
        {
          "output_type": "execute_result",
          "data": {
            "text/plain": [
              "LogisticRegression(C=1.0, class_weight=None, dual=False, fit_intercept=True,\n",
              "                   intercept_scaling=1, l1_ratio=None, max_iter=200,\n",
              "                   multi_class='auto', n_jobs=None, penalty='l2',\n",
              "                   random_state=None, solver='lbfgs', tol=0.0001, verbose=0,\n",
              "                   warm_start=False)"
            ]
          },
          "metadata": {
            "tags": []
          },
          "execution_count": 41
        }
      ]
    },
    {
      "cell_type": "code",
      "metadata": {
        "id": "lZl8g4qJKpLq",
        "colab": {
          "base_uri": "https://localhost:8080/"
        },
        "outputId": "346eaf3d-44a0-4c09-b0c2-14618366283b"
      },
      "source": [
        "xt.dtypes"
      ],
      "id": "lZl8g4qJKpLq",
      "execution_count": 42,
      "outputs": [
        {
          "output_type": "execute_result",
          "data": {
            "text/plain": [
              "0      int64\n",
              "1      int64\n",
              "2      int64\n",
              "3      int64\n",
              "4      int64\n",
              "       ...  \n",
              "779    int64\n",
              "780    int64\n",
              "781    int64\n",
              "782    int64\n",
              "783    int64\n",
              "Length: 784, dtype: object"
            ]
          },
          "metadata": {
            "tags": []
          },
          "execution_count": 42
        }
      ]
    },
    {
      "cell_type": "code",
      "metadata": {
        "id": "6116d78f",
        "colab": {
          "base_uri": "https://localhost:8080/",
          "height": 422
        },
        "outputId": "0d6b74bd-6200-48ca-b7ef-1f11012379eb"
      },
      "source": [
        "y_pred = clf.predict(xv)\n",
        "y_pred = y_pred.astype(int)\n",
        "ds_predictions=yv.copy()\n",
        "# y_pred = y_pred.reshape(14000,)\n",
        "ds_predictions[\"prediction\"] = y_pred.copy()\n",
        "# correct_prediction = (y_pred == yv)\n",
        "ds_predictions.columns = ['label','prediction']\n",
        "ds_predictions[\"correct/incorrect\"] = ((ds_predictions[\"label\"]==ds_predictions[\"prediction\"])).astype(int)\n",
        "ds_predictions"
      ],
      "id": "6116d78f",
      "execution_count": 43,
      "outputs": [
        {
          "output_type": "execute_result",
          "data": {
            "text/html": [
              "<div>\n",
              "<style scoped>\n",
              "    .dataframe tbody tr th:only-of-type {\n",
              "        vertical-align: middle;\n",
              "    }\n",
              "\n",
              "    .dataframe tbody tr th {\n",
              "        vertical-align: top;\n",
              "    }\n",
              "\n",
              "    .dataframe thead th {\n",
              "        text-align: right;\n",
              "    }\n",
              "</style>\n",
              "<table border=\"1\" class=\"dataframe\">\n",
              "  <thead>\n",
              "    <tr style=\"text-align: right;\">\n",
              "      <th></th>\n",
              "      <th>label</th>\n",
              "      <th>prediction</th>\n",
              "      <th>correct/incorrect</th>\n",
              "    </tr>\n",
              "  </thead>\n",
              "  <tbody>\n",
              "    <tr>\n",
              "      <th>59770</th>\n",
              "      <td>6</td>\n",
              "      <td>6</td>\n",
              "      <td>1</td>\n",
              "    </tr>\n",
              "    <tr>\n",
              "      <th>7760</th>\n",
              "      <td>2</td>\n",
              "      <td>2</td>\n",
              "      <td>1</td>\n",
              "    </tr>\n",
              "    <tr>\n",
              "      <th>59916</th>\n",
              "      <td>8</td>\n",
              "      <td>8</td>\n",
              "      <td>1</td>\n",
              "    </tr>\n",
              "    <tr>\n",
              "      <th>18212</th>\n",
              "      <td>0</td>\n",
              "      <td>0</td>\n",
              "      <td>1</td>\n",
              "    </tr>\n",
              "    <tr>\n",
              "      <th>36040</th>\n",
              "      <td>0</td>\n",
              "      <td>0</td>\n",
              "      <td>1</td>\n",
              "    </tr>\n",
              "    <tr>\n",
              "      <th>...</th>\n",
              "      <td>...</td>\n",
              "      <td>...</td>\n",
              "      <td>...</td>\n",
              "    </tr>\n",
              "    <tr>\n",
              "      <th>16249</th>\n",
              "      <td>3</td>\n",
              "      <td>3</td>\n",
              "      <td>1</td>\n",
              "    </tr>\n",
              "    <tr>\n",
              "      <th>64249</th>\n",
              "      <td>1</td>\n",
              "      <td>1</td>\n",
              "      <td>1</td>\n",
              "    </tr>\n",
              "    <tr>\n",
              "      <th>56942</th>\n",
              "      <td>0</td>\n",
              "      <td>0</td>\n",
              "      <td>1</td>\n",
              "    </tr>\n",
              "    <tr>\n",
              "      <th>41020</th>\n",
              "      <td>4</td>\n",
              "      <td>9</td>\n",
              "      <td>0</td>\n",
              "    </tr>\n",
              "    <tr>\n",
              "      <th>63889</th>\n",
              "      <td>9</td>\n",
              "      <td>9</td>\n",
              "      <td>1</td>\n",
              "    </tr>\n",
              "  </tbody>\n",
              "</table>\n",
              "<p>14000 rows × 3 columns</p>\n",
              "</div>"
            ],
            "text/plain": [
              "       label  prediction  correct/incorrect\n",
              "59770      6           6                  1\n",
              "7760       2           2                  1\n",
              "59916      8           8                  1\n",
              "18212      0           0                  1\n",
              "36040      0           0                  1\n",
              "...      ...         ...                ...\n",
              "16249      3           3                  1\n",
              "64249      1           1                  1\n",
              "56942      0           0                  1\n",
              "41020      4           9                  0\n",
              "63889      9           9                  1\n",
              "\n",
              "[14000 rows x 3 columns]"
            ]
          },
          "metadata": {
            "tags": []
          },
          "execution_count": 43
        }
      ]
    },
    {
      "cell_type": "code",
      "metadata": {
        "id": "b5b4bdb7",
        "colab": {
          "base_uri": "https://localhost:8080/",
          "height": 848
        },
        "outputId": "e71df08c-573b-4962-832d-1eafef327573"
      },
      "source": [
        "counts = Counter([(x, y) for x, y in zip(ds_predictions['label'],ds_predictions['prediction'])])\n",
        "size = [counts[(x, y)] for x, y in zip(ds_predictions['label'],ds_predictions['prediction'])]\n",
        "ds_predictions['count']=size\n",
        "axes,fig = plt.subplots(figsize=(5,5))\n",
        "ds_predictions = ds_predictions[ds_predictions[\"label\"]!=ds_predictions[\"prediction\"]]\n",
        "sns.scatterplot(x = 'label', y = 'prediction', s = size, data = ds_predictions, hue = 'correct/incorrect')\n",
        "plt.legend([])\n",
        "plt.show()\n",
        "ds_predictions"
      ],
      "id": "b5b4bdb7",
      "execution_count": 45,
      "outputs": [
        {
          "output_type": "stream",
          "text": [
            "/usr/local/lib/python3.7/dist-packages/ipykernel_launcher.py:3: SettingWithCopyWarning: \n",
            "A value is trying to be set on a copy of a slice from a DataFrame.\n",
            "Try using .loc[row_indexer,col_indexer] = value instead\n",
            "\n",
            "See the caveats in the documentation: https://pandas.pydata.org/pandas-docs/stable/user_guide/indexing.html#returning-a-view-versus-a-copy\n",
            "  This is separate from the ipykernel package so we can avoid doing imports until\n"
          ],
          "name": "stderr"
        },
        {
          "output_type": "display_data",
          "data": {
            "image/png": "[encoded data removed]",
            "text/plain": [
              "<Figure size 360x360 with 1 Axes>"
            ]
          },
          "metadata": {
            "tags": [],
            "needs_background": "light"
          }
        },
        {
          "output_type": "execute_result",
          "data": {
            "text/html": [
              "<div>\n",
              "<style scoped>\n",
              "    .dataframe tbody tr th:only-of-type {\n",
              "        vertical-align: middle;\n",
              "    }\n",
              "\n",
              "    .dataframe tbody tr th {\n",
              "        vertical-align: top;\n",
              "    }\n",
              "\n",
              "    .dataframe thead th {\n",
              "        text-align: right;\n",
              "    }\n",
              "</style>\n",
              "<table border=\"1\" class=\"dataframe\">\n",
              "  <thead>\n",
              "    <tr style=\"text-align: right;\">\n",
              "      <th></th>\n",
              "      <th>label</th>\n",
              "      <th>prediction</th>\n",
              "      <th>correct/incorrect</th>\n",
              "      <th>count</th>\n",
              "    </tr>\n",
              "  </thead>\n",
              "  <tbody>\n",
              "    <tr>\n",
              "      <th>51764</th>\n",
              "      <td>5</td>\n",
              "      <td>2</td>\n",
              "      <td>0</td>\n",
              "      <td>13</td>\n",
              "    </tr>\n",
              "    <tr>\n",
              "      <th>53120</th>\n",
              "      <td>5</td>\n",
              "      <td>9</td>\n",
              "      <td>0</td>\n",
              "      <td>12</td>\n",
              "    </tr>\n",
              "    <tr>\n",
              "      <th>52907</th>\n",
              "      <td>3</td>\n",
              "      <td>9</td>\n",
              "      <td>0</td>\n",
              "      <td>13</td>\n",
              "    </tr>\n",
              "    <tr>\n",
              "      <th>3975</th>\n",
              "      <td>2</td>\n",
              "      <td>8</td>\n",
              "      <td>0</td>\n",
              "      <td>33</td>\n",
              "    </tr>\n",
              "    <tr>\n",
              "      <th>15548</th>\n",
              "      <td>1</td>\n",
              "      <td>5</td>\n",
              "      <td>0</td>\n",
              "      <td>6</td>\n",
              "    </tr>\n",
              "    <tr>\n",
              "      <th>...</th>\n",
              "      <td>...</td>\n",
              "      <td>...</td>\n",
              "      <td>...</td>\n",
              "      <td>...</td>\n",
              "    </tr>\n",
              "    <tr>\n",
              "      <th>23698</th>\n",
              "      <td>7</td>\n",
              "      <td>9</td>\n",
              "      <td>0</td>\n",
              "      <td>45</td>\n",
              "    </tr>\n",
              "    <tr>\n",
              "      <th>6861</th>\n",
              "      <td>2</td>\n",
              "      <td>7</td>\n",
              "      <td>0</td>\n",
              "      <td>28</td>\n",
              "    </tr>\n",
              "    <tr>\n",
              "      <th>24192</th>\n",
              "      <td>4</td>\n",
              "      <td>9</td>\n",
              "      <td>0</td>\n",
              "      <td>49</td>\n",
              "    </tr>\n",
              "    <tr>\n",
              "      <th>32774</th>\n",
              "      <td>8</td>\n",
              "      <td>3</td>\n",
              "      <td>0</td>\n",
              "      <td>35</td>\n",
              "    </tr>\n",
              "    <tr>\n",
              "      <th>41020</th>\n",
              "      <td>4</td>\n",
              "      <td>9</td>\n",
              "      <td>0</td>\n",
              "      <td>49</td>\n",
              "    </tr>\n",
              "  </tbody>\n",
              "</table>\n",
              "<p>1170 rows × 4 columns</p>\n",
              "</div>"
            ],
            "text/plain": [
              "       label  prediction  correct/incorrect  count\n",
              "51764      5           2                  0     13\n",
              "53120      5           9                  0     12\n",
              "52907      3           9                  0     13\n",
              "3975       2           8                  0     33\n",
              "15548      1           5                  0      6\n",
              "...      ...         ...                ...    ...\n",
              "23698      7           9                  0     45\n",
              "6861       2           7                  0     28\n",
              "24192      4           9                  0     49\n",
              "32774      8           3                  0     35\n",
              "41020      4           9                  0     49\n",
              "\n",
              "[1170 rows x 4 columns]"
            ]
          },
          "metadata": {
            "tags": []
          },
          "execution_count": 45
        }
      ]
    },
    {
      "cell_type": "markdown",
      "metadata": {
        "id": "16be2fda"
      },
      "source": [
        "# Result generated by Logistic Regression"
      ],
      "id": "16be2fda"
    },
    {
      "cell_type": "code",
      "metadata": {
        "id": "805e36d8",
        "colab": {
          "base_uri": "https://localhost:8080/"
        },
        "outputId": "51c9e748-d8a6-4c84-ae2b-6baf153c6f5d"
      },
      "source": [
        "accuracies = clf.score(xt,yt)\n",
        "print(f\"Accuracy :{np.mean(accuracies)*100:.2f}%\")"
      ],
      "id": "805e36d8",
      "execution_count": 57,
      "outputs": [
        {
          "output_type": "stream",
          "text": [
            "Accuracy :93.96%\n"
          ],
          "name": "stdout"
        }
      ]
    },
    {
      "cell_type": "markdown",
      "metadata": {
        "id": "efe4b2a7"
      },
      "source": [
        "# Training with Neural Networks"
      ],
      "id": "efe4b2a7"
    },
    {
      "cell_type": "code",
      "metadata": {
        "id": "fd90c9c6"
      },
      "source": [
        "model = tf.keras.models.Sequential([\n",
        "  tf.keras.layers.Flatten(input_shape=(28, 28,1)),\n",
        "  tf.keras.layers.Dense(128,activation='relu'),\n",
        "  tf.keras.layers.Dense(128,activation='sigmoid'),\n",
        "  tf.keras.layers.Dense(10, activation='softmax')\n",
        "])"
      ],
      "id": "fd90c9c6",
      "execution_count": 47,
      "outputs": []
    },
    {
      "cell_type": "code",
      "metadata": {
        "id": "0e468ce8"
      },
      "source": [
        "model.compile(\n",
        "    optimizer=tf.keras.optimizers.Adam(0.001),\n",
        "    loss=tf.keras.losses.SparseCategoricalCrossentropy(from_logits=True),\n",
        "    metrics=[tf.keras.metrics.SparseCategoricalAccuracy()],\n",
        ")"
      ],
      "id": "0e468ce8",
      "execution_count": 48,
      "outputs": []
    },
    {
      "cell_type": "code",
      "metadata": {
        "id": "97073206",
        "colab": {
          "base_uri": "https://localhost:8080/"
        },
        "outputId": "6112f7c0-6b4f-4006-b630-96f0305cca04"
      },
      "source": [
        "hist=model.fit(\n",
        "    x=xt.values,\n",
        "    y=yt.values,\n",
        "    epochs=8,\n",
        "    validation_split=0.20\n",
        ")"
      ],
      "id": "97073206",
      "execution_count": 49,
      "outputs": [
        {
          "output_type": "stream",
          "text": [
            "Epoch 1/8\n",
            "WARNING:tensorflow:Model was constructed with shape (None, 28, 28, 1) for input KerasTensor(type_spec=TensorSpec(shape=(None, 28, 28, 1), dtype=tf.float32, name='flatten_input'), name='flatten_input', description=\"created by layer 'flatten_input'\"), but it was called on an input with incompatible shape (32, 784).\n",
            "WARNING:tensorflow:Model was constructed with shape (None, 28, 28, 1) for input KerasTensor(type_spec=TensorSpec(shape=(None, 28, 28, 1), dtype=tf.float32, name='flatten_input'), name='flatten_input', description=\"created by layer 'flatten_input'\"), but it was called on an input with incompatible shape (32, 784).\n"
          ],
          "name": "stdout"
        },
        {
          "output_type": "stream",
          "text": [
            "/usr/local/lib/python3.7/dist-packages/tensorflow/python/keras/backend.py:4930: UserWarning: \"`sparse_categorical_crossentropy` received `from_logits=True`, but the `output` argument was produced by a sigmoid or softmax activation and thus does not represent logits. Was this intended?\"\n",
            "  '\"`sparse_categorical_crossentropy` received `from_logits=True`, but '\n"
          ],
          "name": "stderr"
        },
        {
          "output_type": "stream",
          "text": [
            "1397/1400 [============================>.] - ETA: 0s - loss: 0.5001 - sparse_categorical_accuracy: 0.8601WARNING:tensorflow:Model was constructed with shape (None, 28, 28, 1) for input KerasTensor(type_spec=TensorSpec(shape=(None, 28, 28, 1), dtype=tf.float32, name='flatten_input'), name='flatten_input', description=\"created by layer 'flatten_input'\"), but it was called on an input with incompatible shape (32, 784).\n",
            "1400/1400 [==============================] - 5s 3ms/step - loss: 0.4996 - sparse_categorical_accuracy: 0.8603 - val_loss: 0.2866 - val_sparse_categorical_accuracy: 0.9166\n",
            "Epoch 2/8\n",
            "1400/1400 [==============================] - 4s 3ms/step - loss: 0.2674 - sparse_categorical_accuracy: 0.9200 - val_loss: 0.2430 - val_sparse_categorical_accuracy: 0.9280\n",
            "Epoch 3/8\n",
            "1400/1400 [==============================] - 4s 3ms/step - loss: 0.2416 - sparse_categorical_accuracy: 0.9263 - val_loss: 0.2127 - val_sparse_categorical_accuracy: 0.9398\n",
            "Epoch 4/8\n",
            "1400/1400 [==============================] - 3s 2ms/step - loss: 0.2262 - sparse_categorical_accuracy: 0.9319 - val_loss: 0.2272 - val_sparse_categorical_accuracy: 0.9342\n",
            "Epoch 5/8\n",
            "1400/1400 [==============================] - 3s 2ms/step - loss: 0.2289 - sparse_categorical_accuracy: 0.9311 - val_loss: 0.2129 - val_sparse_categorical_accuracy: 0.9345\n",
            "Epoch 6/8\n",
            "1400/1400 [==============================] - 4s 3ms/step - loss: 0.2090 - sparse_categorical_accuracy: 0.9380 - val_loss: 0.2107 - val_sparse_categorical_accuracy: 0.9367\n",
            "Epoch 7/8\n",
            "1400/1400 [==============================] - 4s 3ms/step - loss: 0.2049 - sparse_categorical_accuracy: 0.9378 - val_loss: 0.2002 - val_sparse_categorical_accuracy: 0.9401\n",
            "Epoch 8/8\n",
            "1400/1400 [==============================] - 3s 2ms/step - loss: 0.2063 - sparse_categorical_accuracy: 0.9371 - val_loss: 0.2030 - val_sparse_categorical_accuracy: 0.9388\n"
          ],
          "name": "stdout"
        }
      ]
    },
    {
      "cell_type": "code",
      "metadata": {
        "scrolled": true,
        "id": "fddc58ad",
        "colab": {
          "base_uri": "https://localhost:8080/",
          "height": 336
        },
        "outputId": "95fd920a-f80f-40b1-f4e9-677274b27a3c"
      },
      "source": [
        "def plot_training_and_validation_curves(hst):\n",
        "    fig,axes=plt.subplots(1,2,figsize=(10,5))\n",
        "    axes[0].plot(hst.history['val_sparse_categorical_accuracy'],label='validation accuracy')\n",
        "    axes[0].plot(hst.history['sparse_categorical_accuracy'],label='training accuracy')\n",
        "    axes[0].set_title('training accuracy')\n",
        "    axes[0].legend()\n",
        "    \n",
        "    axes[1].plot(hst.history['val_loss'],label='validation loss')\n",
        "    axes[1].plot(hst.history['loss'],label='training loss')\n",
        "    axes[1].set_title('training loss')\n",
        "    axes[1].legend()\n",
        "\n",
        "plot_training_and_validation_curves(hist)"
      ],
      "id": "fddc58ad",
      "execution_count": 50,
      "outputs": [
        {
          "output_type": "display_data",
          "data": {
            "image/png": "[encoded data removed]",
            "text/plain": [
              "<Figure size 720x360 with 2 Axes>"
            ]
          },
          "metadata": {
            "tags": [],
            "needs_background": "light"
          }
        }
      ]
    },
    {
      "cell_type": "markdown",
      "metadata": {
        "id": "a0db2829"
      },
      "source": [
        "### Experimentation with different architecture"
      ],
      "id": "a0db2829"
    },
    {
      "cell_type": "code",
      "metadata": {
        "id": "b505e5a3",
        "colab": {
          "base_uri": "https://localhost:8080/",
          "height": 811
        },
        "outputId": "af28b022-00bb-4ea8-8434-da82fd348868"
      },
      "source": [
        "model = tf.keras.models.Sequential([\n",
        "  tf.keras.layers.Flatten(input_shape=(28, 28,1)),\n",
        "  tf.keras.layers.Dense(128,activation='relu'),\n",
        "  tf.keras.layers.Dense(128,activation='sigmoid'),\n",
        "  tf.keras.layers.Dense(10, activation='softmax')\n",
        "])\n",
        "model.compile(\n",
        "    optimizer=tf.keras.optimizers.Adam(0.001),\n",
        "    loss=tf.keras.losses.SparseCategoricalCrossentropy(from_logits=True),\n",
        "    metrics=[tf.keras.metrics.SparseCategoricalAccuracy()],\n",
        ")\n",
        "# es=tf.keras.callbacks.EarlyStopping(monitor=\"val_loss\",patience=1)\n",
        "hist=model.fit(\n",
        "    x=xt.values,\n",
        "    y=yt.values,\n",
        "    epochs=10,\n",
        "    validation_split=0.20,\n",
        "#     callbacks=[es]\n",
        ")\n",
        "plot_training_and_validation_curves(hist)"
      ],
      "id": "b505e5a3",
      "execution_count": 51,
      "outputs": [
        {
          "output_type": "stream",
          "text": [
            "Epoch 1/10\n",
            "WARNING:tensorflow:Model was constructed with shape (None, 28, 28, 1) for input KerasTensor(type_spec=TensorSpec(shape=(None, 28, 28, 1), dtype=tf.float32, name='flatten_1_input'), name='flatten_1_input', description=\"created by layer 'flatten_1_input'\"), but it was called on an input with incompatible shape (32, 784).\n",
            "WARNING:tensorflow:Model was constructed with shape (None, 28, 28, 1) for input KerasTensor(type_spec=TensorSpec(shape=(None, 28, 28, 1), dtype=tf.float32, name='flatten_1_input'), name='flatten_1_input', description=\"created by layer 'flatten_1_input'\"), but it was called on an input with incompatible shape (32, 784).\n"
          ],
          "name": "stdout"
        },
        {
          "output_type": "stream",
          "text": [
            "/usr/local/lib/python3.7/dist-packages/tensorflow/python/keras/backend.py:4930: UserWarning: \"`sparse_categorical_crossentropy` received `from_logits=True`, but the `output` argument was produced by a sigmoid or softmax activation and thus does not represent logits. Was this intended?\"\n",
            "  '\"`sparse_categorical_crossentropy` received `from_logits=True`, but '\n"
          ],
          "name": "stderr"
        },
        {
          "output_type": "stream",
          "text": [
            "1382/1400 [============================>.] - ETA: 0s - loss: 0.5223 - sparse_categorical_accuracy: 0.8568WARNING:tensorflow:Model was constructed with shape (None, 28, 28, 1) for input KerasTensor(type_spec=TensorSpec(shape=(None, 28, 28, 1), dtype=tf.float32, name='flatten_1_input'), name='flatten_1_input', description=\"created by layer 'flatten_1_input'\"), but it was called on an input with incompatible shape (32, 784).\n",
            "1400/1400 [==============================] - 4s 3ms/step - loss: 0.5196 - sparse_categorical_accuracy: 0.8575 - val_loss: 0.3288 - val_sparse_categorical_accuracy: 0.9043\n",
            "Epoch 2/10\n",
            "1400/1400 [==============================] - 3s 2ms/step - loss: 0.2871 - sparse_categorical_accuracy: 0.9155 - val_loss: 0.2689 - val_sparse_categorical_accuracy: 0.9237\n",
            "Epoch 3/10\n",
            "1400/1400 [==============================] - 4s 3ms/step - loss: 0.2469 - sparse_categorical_accuracy: 0.9273 - val_loss: 0.2226 - val_sparse_categorical_accuracy: 0.9340\n",
            "Epoch 4/10\n",
            "1400/1400 [==============================] - 3s 2ms/step - loss: 0.2255 - sparse_categorical_accuracy: 0.9319 - val_loss: 0.2332 - val_sparse_categorical_accuracy: 0.9301\n",
            "Epoch 5/10\n",
            "1400/1400 [==============================] - 3s 2ms/step - loss: 0.2156 - sparse_categorical_accuracy: 0.9359 - val_loss: 0.2382 - val_sparse_categorical_accuracy: 0.9267\n",
            "Epoch 6/10\n",
            "1400/1400 [==============================] - 3s 2ms/step - loss: 0.2130 - sparse_categorical_accuracy: 0.9358 - val_loss: 0.2211 - val_sparse_categorical_accuracy: 0.9336\n",
            "Epoch 7/10\n",
            "1400/1400 [==============================] - 3s 2ms/step - loss: 0.2056 - sparse_categorical_accuracy: 0.9372 - val_loss: 0.2010 - val_sparse_categorical_accuracy: 0.9397\n",
            "Epoch 8/10\n",
            "1400/1400 [==============================] - 4s 3ms/step - loss: 0.1890 - sparse_categorical_accuracy: 0.9423 - val_loss: 0.1920 - val_sparse_categorical_accuracy: 0.9424\n",
            "Epoch 9/10\n",
            "1400/1400 [==============================] - 3s 2ms/step - loss: 0.1891 - sparse_categorical_accuracy: 0.9414 - val_loss: 0.2020 - val_sparse_categorical_accuracy: 0.9391\n",
            "Epoch 10/10\n",
            "1400/1400 [==============================] - 3s 2ms/step - loss: 0.1877 - sparse_categorical_accuracy: 0.9435 - val_loss: 0.1968 - val_sparse_categorical_accuracy: 0.9416\n"
          ],
          "name": "stdout"
        },
        {
          "output_type": "display_data",
          "data": {
            "image/png": "[encoded data removed]",
            "text/plain": [
              "<Figure size 720x360 with 2 Axes>"
            ]
          },
          "metadata": {
            "tags": [],
            "needs_background": "light"
          }
        }
      ]
    },
    {
      "cell_type": "markdown",
      "metadata": {
        "id": "6bf74ba6"
      },
      "source": [
        "### Model Evaluation and Confusion matrix"
      ],
      "id": "6bf74ba6"
    },
    {
      "cell_type": "code",
      "metadata": {
        "id": "9b8e69b4",
        "colab": {
          "base_uri": "https://localhost:8080/"
        },
        "outputId": "10c3922e-cdd0-4e9d-f3fc-f65f39aa7161"
      },
      "source": [
        "y_train.shape"
      ],
      "id": "9b8e69b4",
      "execution_count": 52,
      "outputs": [
        {
          "output_type": "execute_result",
          "data": {
            "text/plain": [
              "(70000, 1)"
            ]
          },
          "metadata": {
            "tags": []
          },
          "execution_count": 52
        }
      ]
    },
    {
      "cell_type": "code",
      "metadata": {
        "id": "74957bc9",
        "colab": {
          "base_uri": "https://localhost:8080/"
        },
        "outputId": "95e36757-2380-4932-ea80-e7cb72f16162"
      },
      "source": [
        "y_predict = model.predict(x_train.values)\n",
        "y_pred_classes = np.argmax(y_predict,axis=1)\n",
        "conf_matrix = confusion_matrix(y_train.values, y_pred_classes)\n",
        "conf_matrix"
      ],
      "id": "74957bc9",
      "execution_count": 53,
      "outputs": [
        {
          "output_type": "stream",
          "text": [
            "WARNING:tensorflow:Model was constructed with shape (None, 28, 28, 1) for input KerasTensor(type_spec=TensorSpec(shape=(None, 28, 28, 1), dtype=tf.float32, name='flatten_1_input'), name='flatten_1_input', description=\"created by layer 'flatten_1_input'\"), but it was called on an input with incompatible shape (None, 784).\n"
          ],
          "name": "stdout"
        },
        {
          "output_type": "execute_result",
          "data": {
            "text/plain": [
              "array([[6749,    1,   41,    4,   11,    6,   43,    4,   39,    5],\n",
              "       [   1, 7566,   71,   17,   11,   11,   35,   11,  137,   17],\n",
              "       [  54,    7, 6710,   24,   32,    4,   17,   47,   92,    3],\n",
              "       [  44,    8,  204, 6549,    2,  113,    7,   38,  146,   30],\n",
              "       [   8,   15,   58,    4, 6423,    5,   50,   20,   55,  186],\n",
              "       [  88,    7,   33,  209,   39, 5647,   94,   11,  126,   59],\n",
              "       [  62,   19,   37,    2,   34,   27, 6644,    0,   51,    0],\n",
              "       [  22,   38,   97,   30,   62,    2,    0, 6946,   21,   75],\n",
              "       [  56,   48,   64,   60,    7,   55,   60,   12, 6440,   23],\n",
              "       [  37,   18,   19,   96,  151,   38,   10,  161,   83, 6345]])"
            ]
          },
          "metadata": {
            "tags": []
          },
          "execution_count": 53
        }
      ]
    },
    {
      "cell_type": "code",
      "metadata": {
        "id": "bf57d1a7",
        "colab": {
          "base_uri": "https://localhost:8080/",
          "height": 362
        },
        "outputId": "c61db860-b48e-4d8e-91ee-89a2c9fea47c"
      },
      "source": [
        "column_names=[f\"predicted {i}\" for i in range(10)]\n",
        "row_names=[f\"actual {i}\" for i in range(10)]\n",
        "readable_conf_matrix=pd.DataFrame(conf_matrix, index=row_names,columns=column_names)\n",
        "readable_conf_matrix"
      ],
      "id": "bf57d1a7",
      "execution_count": 54,
      "outputs": [
        {
          "output_type": "execute_result",
          "data": {
            "text/html": [
              "<div>\n",
              "<style scoped>\n",
              "    .dataframe tbody tr th:only-of-type {\n",
              "        vertical-align: middle;\n",
              "    }\n",
              "\n",
              "    .dataframe tbody tr th {\n",
              "        vertical-align: top;\n",
              "    }\n",
              "\n",
              "    .dataframe thead th {\n",
              "        text-align: right;\n",
              "    }\n",
              "</style>\n",
              "<table border=\"1\" class=\"dataframe\">\n",
              "  <thead>\n",
              "    <tr style=\"text-align: right;\">\n",
              "      <th></th>\n",
              "      <th>predicted 0</th>\n",
              "      <th>predicted 1</th>\n",
              "      <th>predicted 2</th>\n",
              "      <th>predicted 3</th>\n",
              "      <th>predicted 4</th>\n",
              "      <th>predicted 5</th>\n",
              "      <th>predicted 6</th>\n",
              "      <th>predicted 7</th>\n",
              "      <th>predicted 8</th>\n",
              "      <th>predicted 9</th>\n",
              "    </tr>\n",
              "  </thead>\n",
              "  <tbody>\n",
              "    <tr>\n",
              "      <th>actual 0</th>\n",
              "      <td>6749</td>\n",
              "      <td>1</td>\n",
              "      <td>41</td>\n",
              "      <td>4</td>\n",
              "      <td>11</td>\n",
              "      <td>6</td>\n",
              "      <td>43</td>\n",
              "      <td>4</td>\n",
              "      <td>39</td>\n",
              "      <td>5</td>\n",
              "    </tr>\n",
              "    <tr>\n",
              "      <th>actual 1</th>\n",
              "      <td>1</td>\n",
              "      <td>7566</td>\n",
              "      <td>71</td>\n",
              "      <td>17</td>\n",
              "      <td>11</td>\n",
              "      <td>11</td>\n",
              "      <td>35</td>\n",
              "      <td>11</td>\n",
              "      <td>137</td>\n",
              "      <td>17</td>\n",
              "    </tr>\n",
              "    <tr>\n",
              "      <th>actual 2</th>\n",
              "      <td>54</td>\n",
              "      <td>7</td>\n",
              "      <td>6710</td>\n",
              "      <td>24</td>\n",
              "      <td>32</td>\n",
              "      <td>4</td>\n",
              "      <td>17</td>\n",
              "      <td>47</td>\n",
              "      <td>92</td>\n",
              "      <td>3</td>\n",
              "    </tr>\n",
              "    <tr>\n",
              "      <th>actual 3</th>\n",
              "      <td>44</td>\n",
              "      <td>8</td>\n",
              "      <td>204</td>\n",
              "      <td>6549</td>\n",
              "      <td>2</td>\n",
              "      <td>113</td>\n",
              "      <td>7</td>\n",
              "      <td>38</td>\n",
              "      <td>146</td>\n",
              "      <td>30</td>\n",
              "    </tr>\n",
              "    <tr>\n",
              "      <th>actual 4</th>\n",
              "      <td>8</td>\n",
              "      <td>15</td>\n",
              "      <td>58</td>\n",
              "      <td>4</td>\n",
              "      <td>6423</td>\n",
              "      <td>5</td>\n",
              "      <td>50</td>\n",
              "      <td>20</td>\n",
              "      <td>55</td>\n",
              "      <td>186</td>\n",
              "    </tr>\n",
              "    <tr>\n",
              "      <th>actual 5</th>\n",
              "      <td>88</td>\n",
              "      <td>7</td>\n",
              "      <td>33</td>\n",
              "      <td>209</td>\n",
              "      <td>39</td>\n",
              "      <td>5647</td>\n",
              "      <td>94</td>\n",
              "      <td>11</td>\n",
              "      <td>126</td>\n",
              "      <td>59</td>\n",
              "    </tr>\n",
              "    <tr>\n",
              "      <th>actual 6</th>\n",
              "      <td>62</td>\n",
              "      <td>19</td>\n",
              "      <td>37</td>\n",
              "      <td>2</td>\n",
              "      <td>34</td>\n",
              "      <td>27</td>\n",
              "      <td>6644</td>\n",
              "      <td>0</td>\n",
              "      <td>51</td>\n",
              "      <td>0</td>\n",
              "    </tr>\n",
              "    <tr>\n",
              "      <th>actual 7</th>\n",
              "      <td>22</td>\n",
              "      <td>38</td>\n",
              "      <td>97</td>\n",
              "      <td>30</td>\n",
              "      <td>62</td>\n",
              "      <td>2</td>\n",
              "      <td>0</td>\n",
              "      <td>6946</td>\n",
              "      <td>21</td>\n",
              "      <td>75</td>\n",
              "    </tr>\n",
              "    <tr>\n",
              "      <th>actual 8</th>\n",
              "      <td>56</td>\n",
              "      <td>48</td>\n",
              "      <td>64</td>\n",
              "      <td>60</td>\n",
              "      <td>7</td>\n",
              "      <td>55</td>\n",
              "      <td>60</td>\n",
              "      <td>12</td>\n",
              "      <td>6440</td>\n",
              "      <td>23</td>\n",
              "    </tr>\n",
              "    <tr>\n",
              "      <th>actual 9</th>\n",
              "      <td>37</td>\n",
              "      <td>18</td>\n",
              "      <td>19</td>\n",
              "      <td>96</td>\n",
              "      <td>151</td>\n",
              "      <td>38</td>\n",
              "      <td>10</td>\n",
              "      <td>161</td>\n",
              "      <td>83</td>\n",
              "      <td>6345</td>\n",
              "    </tr>\n",
              "  </tbody>\n",
              "</table>\n",
              "</div>"
            ],
            "text/plain": [
              "          predicted 0  predicted 1  ...  predicted 8  predicted 9\n",
              "actual 0         6749            1  ...           39            5\n",
              "actual 1            1         7566  ...          137           17\n",
              "actual 2           54            7  ...           92            3\n",
              "actual 3           44            8  ...          146           30\n",
              "actual 4            8           15  ...           55          186\n",
              "actual 5           88            7  ...          126           59\n",
              "actual 6           62           19  ...           51            0\n",
              "actual 7           22           38  ...           21           75\n",
              "actual 8           56           48  ...         6440           23\n",
              "actual 9           37           18  ...           83         6345\n",
              "\n",
              "[10 rows x 10 columns]"
            ]
          },
          "metadata": {
            "tags": []
          },
          "execution_count": 54
        }
      ]
    },
    {
      "cell_type": "code",
      "metadata": {
        "id": "f74fffba",
        "colab": {
          "base_uri": "https://localhost:8080/",
          "height": 330
        },
        "outputId": "13940449-a2e5-470b-8568-22ab1ae33baa"
      },
      "source": [
        "sns.heatmap(readable_conf_matrix)"
      ],
      "id": "f74fffba",
      "execution_count": 55,
      "outputs": [
        {
          "output_type": "execute_result",
          "data": {
            "text/plain": [
              "<matplotlib.axes._subplots.AxesSubplot at 0x7ff4c207d990>"
            ]
          },
          "metadata": {
            "tags": []
          },
          "execution_count": 55
        },
        {
          "output_type": "display_data",
          "data": {
            "image/png": "[encoded data removed]",
            "text/plain": [
              "<Figure size 432x288 with 2 Axes>"
            ]
          },
          "metadata": {
            "tags": [],
            "needs_background": "light"
          }
        }
      ]
    },
    {
      "cell_type": "code",
      "metadata": {
        "id": "116f972d",
        "colab": {
          "base_uri": "https://localhost:8080/",
          "height": 330
        },
        "outputId": "986f9233-48df-496c-ab4b-71d577967aa2"
      },
      "source": [
        "for i in range(10):\n",
        "    readable_conf_matrix.iloc[i,i]=0\n",
        "sns.heatmap(readable_conf_matrix)"
      ],
      "id": "116f972d",
      "execution_count": 56,
      "outputs": [
        {
          "output_type": "execute_result",
          "data": {
            "text/plain": [
              "<matplotlib.axes._subplots.AxesSubplot at 0x7ff4bd316a90>"
            ]
          },
          "metadata": {
            "tags": []
          },
          "execution_count": 56
        },
        {
          "output_type": "display_data",
          "data": {
            "image/png": "[encoded data removed]",
            "text/plain": [
              "<Figure size 432x288 with 2 Axes>"
            ]
          },
          "metadata": {
            "tags": [],
            "needs_background": "light"
          }
        }
      ]
    }
  ]
}
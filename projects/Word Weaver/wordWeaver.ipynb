{
 "cells": [
  {
   "cell_type": "code",
   "execution_count": 1,
   "metadata": {
    "id": "J1D42emD32Ro"
   },
   "outputs": [
    {
     "name": "stdout",
     "output_type": "stream",
     "text": [
      "WARNING:tensorflow:From C:\\Users\\Sachit\\AppData\\Roaming\\Python\\Python311\\site-packages\\keras\\src\\losses.py:2976: The name tf.losses.sparse_softmax_cross_entropy is deprecated. Please use tf.compat.v1.losses.sparse_softmax_cross_entropy instead.\n",
      "\n"
     ]
    }
   ],
   "source": [
    "import numpy as np\n",
    "import pandas as pd\n",
    "\n",
    "import tensorflow as tf\n",
    "from tensorflow.keras.preprocessing.text import Tokenizer"
   ]
  },
  {
   "cell_type": "code",
   "execution_count": 2,
   "metadata": {},
   "outputs": [
    {
     "name": "stdout",
     "output_type": "stream",
     "text": [
      "                                               phrases\n",
      "0                                                Hey ,\n",
      "1                                                 Hi ,\n",
      "2                                              Hello ,\n",
      "3                                       Good morning ,\n",
      "4                                     Good afternoon ,\n",
      "..                                                 ...\n",
      "563  With 10 years of experience in the mobile indu...\n",
      "564  Please let me know if you’re interested in col...\n",
      "565  She will be providing technical support and as...\n",
      "566  make sure they enjoy the best experience with ...\n",
      "567                                 Feel free to greet\n",
      "\n",
      "[568 rows x 1 columns]\n"
     ]
    }
   ],
   "source": [
    "file = pd.read_json(\"./prompts.json\")\n",
    "prompts = pd.DataFrame(file)\n",
    "print(prompts)"
   ]
  },
  {
   "cell_type": "code",
   "execution_count": 3,
   "metadata": {
    "id": "KhtDxwL_AXFj"
   },
   "outputs": [
    {
     "name": "stdout",
     "output_type": "stream",
     "text": [
      "{'to': 1, 'you': 2, 'i': 3, 'the': 4, 'for': 5, 'your': 6, 'please': 7, 'this': 8, 'a': 9, 'and': 10, 'it': 11, 'in': 12, 'have': 13, 'me': 14, 'my': 15, 'with': 16, 'if': 17, 'would': 18, 'we': 19, 'on': 20, 'be': 21, 'of': 22, 'that': 23, 'our': 24, 'is': 25, 'thank': 26, 'any': 27, 'email': 28, 'as': 29, 'are': 30, 'about': 31, 'so': 32, 'am': 33, 'more': 34, 'know': 35, 'time': 36, 'could': 37, 'let': 38, 'us': 39, 'can': 40, 'like': 41, 'information': 42, 'hope': 43, 'at': 44, 'wanted': 45, 'some': 46, 'attached': 47, 'up': 48, 'help': 49, 'not': 50, 'get': 51, 'wednesday': 52, 'i’m': 53, 'great': 54, 'sorry': 55, 'just': 56, 'appreciate': 57, 'need': 58, 'free': 59, 'best': 60, 'from': 61, 'share': 62, 'was': 63, 'writing': 64, 'all': 65, 'here': 66, 'do': 67, 'will': 68, 'last': 69, 'i’d': 70, 'thanks': 71, 'had': 72, 'make': 73, 'what': 74, 'love': 75, 'keep': 76, 'inform': 77, 'may': 78, 'an': 79, 'out': 80, 'questions': 81, 'again': 82, 'look': 83, 'feedback': 84, 'work': 85, 'subscription': 86, 'forward': 87, 'inconvenience': 88, 'caused': 89, 'how': 90, 'take': 91, 'regret': 92, 'working': 93, 'but': 94, 'check': 95, 'possible': 96, 's': 97, 'been': 98, 'day': 99, 'documents': 100, 'feel': 101, 'understand': 102, 'touch': 103, 'call': 104, 'support': 105, 'has': 106, 'soon': 107, 'send': 108, 'new': 109, 'find': 110, 'offer': 111, 'set': 112, 'discuss': 113, 'kindly': 114, 'document': 115, 'it’s': 116, 'afraid': 117, 'much': 118, 'file': 119, 'learn': 120, 'good': 121, 'week': 122, 'provide': 123, 'request': 124, 'reach': 125, 'apologize': 126, 'assure': 127, 'through': 128, 'experience': 129, 'previous': 130, 'back': 131, 'confidential': 132, 'sharing': 133, 'now': 134, 'give': 135, 'per': 136, 'unfortunately': 137, 'hear': 138, 'next': 139, 'schedule': 140, 'i’ve': 141, 'really': 142, 'i’ll': 143, 'there': 144, 'you’re': 145, 'connect': 146, 'details': 147, 'concerns': 148, 'requested': 149, 'further': 150, 'future': 151, 'apology': 152, 'deeply': 153, 'want': 154, 'over': 155, 'shared': 156, 'following': 157, 'review': 158, 'contract': 159, 'vendor': 160, 'appreciated': 161, 'or': 162, 'don’t': 163, 'hesitate': 164, 'accept': 165, 'tell': 166, 'invite': 167, 'shortly': 168, 'summer': 169, 'products': 170, 'excited': 171, 'team': 172, 'start': 173, 'helpful': 174, 'considering': 175, 'address': 176, 'than': 177, 'happy': 178, 'end': 179, 'apologies': 180, 'reply': 181, 'right': 182, 'go': 183, 'making': 184, 'follow': 185, 'got': 186, 'meeting': 187, 'let’s': 188, 'project': 189, 'quick': 190, 'discussed': 191, 'anything': 192, 'continued': 193, 'insights': 194, 'news': 195, 'proceed': 196, 'cancellation': 197, 'company': 198, 'see': 199, 'very': 200, 'additional': 201, 'by': 202, 'highly': 203, 'when': 204, 'looking': 205, 'contact': 206, 'linkedin': 207, 'catalog': 208, 'read': 209, 'opportunities': 210, 'explore': 211, 'today': 212, 'leave': 213, 'discount': 214, 'well': 215, 'having': 216, 'meet': 217, 'event': 218, 'specific': 219, 'potential': 220, 'reaching': 221, 'taking': 222, 'write': 223, 'regarding': 224, 'pfa': 225, 'answer': 226, 'late': 227, 'issue': 228, 'product': 229, 'matter': 230, 'token': 231, 'reminder': 232, 'keeping': 233, 'quickly': 234, 'did': 235, 'treat': 236, 'ensure': 237, 'such': 238, 'mind': 239, 'clear': 240, 'expectations': 241, 'highlight': 242, 'far': 243, 'convenience': 244, 'collaboration': 245, 'valuable': 246, 'without': 247, 'pleasure': 248, 'name': 249, 'regards': 250, 'talk': 251, 'understanding': 252, 'greatly': 253, 'assistance': 254, 'these': 255, 'ask': 256, 'took': 257, 'started': 258, 'enjoyed': 259, 'why': 260, 'everyone': 261, 'explain': 262, 'said': 263, 'wish': 264, 'available': 265, 'able': 266, 'unable': 267, 'after': 268, 'due': 269, 'thursday': 270, 'tomorrow': 271, 'recently': 272, 'you’d': 273, 'coming': 274, 'friday': 275, 'also': 276, 'before': 277, 'add': 278, 'recommended': 279, 'purchase': 280, 'plan': 281, 'personalized': 282, 'stay': 283, 'role': 284, 'miss': 285, 'sure': 286, 'hey': 287, 'hi': 288, 'hello': 289, 'morning': 290, 'dear': 291, 'concern': 292, 'amazing': 293, 'weekend': 294, 'glad': 295, 'solutions': 296, 'case': 297, 'other': 298, 'steps': 299, 'repeat': 300, 'extend': 301, 'full': 302, 'actively': 303, 'raised': 304, 'negative': 305, 'committed': 306, 'service': 307, 'situation': 308, 'solution': 309, 'friendly': 310, 'conversation': 311, 'must': 312, 'chance': 313, 'into': 314, 'remind': 315, 'task': 316, 'updates': 317, 'brainstorm': 318, 'believe': 319, 'reference': 320, 'sensitive': 321, 'remains': 322, 'else': 323, 'heads': 324, 'attaching': 325, 'both': 326, 'refer': 327, 'discussion': 328, 'records': 329, 'gratitude': 330, 'enthusiasm': 331, 'prompt': 332, 'hard': 333, 'bad': 334, 'way': 335, 'canceling': 336, 'requesting': 337, 'termination': 338, 'serves': 339, 'official': 340, 'notice': 341, 'cancel': 342, 'communication': 343, 'chat': 344, 'sincerely': 345, 'wishes': 346, 'during': 347, 'hearing': 348, 'consideration': 349, 'interest': 350, 'challenges': 351, 'we’ll': 352, 'wonderful': 353, 'bottom': 354, 'attending': 355, 'together': 356, 'thoughts': 357, 'sending': 358, 'replying': 359, 'responding': 360, 'response': 361, 'changes': 362, 'sign': 363, 'grateful': 364, 'didn’t': 365, 'fully': 366, 'quite': 367, 'light': 368, 'use': 369, 'they': 370, 'already': 371, 'loop': 372, 'think': 373, 'views': 374, 'waiting': 375, 'via': 376, 'comfortable': 377, 'feasible': 378, 'book': 379, 'accordingly': 380, 'won’t': 381, 'scheduled': 382, 'taken': 383, 'against': 384, 'rules': 385, 'efforts': 386, 'domain': 387, 'advance': 388, 'everything': 389, 'ready': 390, 'meantime': 391, 'patience': 392, 'luck': 393, 'welcome': 394, 'leaving': 395, 'open': 396, 'came': 397, 'post': 398, 'options': 399, 'later': 400, 'we’ve': 401, 'walk': 402, 'packages': 403, '12': 404, '–': 405, '5': 406, 'p': 407, 'm': 408, 'est': 409, 'chatting': 410, 'save': 411, 'improve': 412, 'suggestions': 413, 'ps': 414, 'lot': 415, 'say': 416, 'skills': 417, 'video': 418, 'current': 419, 'portfolio': 420, 'creative': 421, 'opportunity': 422, 'past': 423, 'learning': 424, 'career': 425, 'coffee': 426, 'subscribe': 427, 'network': 428, 'repost': 429, 'pin': 430, 'survey': 431, 'exclusive': 432, 'tailored': 433, 'tickets': 434, 'discover': 435, 'customer': 436, 'cta': 437, 'examples': 438, 'rate': 439, 'customized': 440, 'special': 441, 'connected': 442, 'reached': 443, 'job': 444, 'done': 445, 'years': 446, 'going': 447, 'sick': 448, 'absence': 449, '10': 450, 'store': 451, 'student': 452, 'interested': 453, 'afternoon': 454, 'evening': 455, 'sir': 456, 'madam': 457, 'whom': 458, 'whomsoever': 459, 'finds': 460, 'restful': 461, 'inquire': 462, 'introduce': 463, 'immensely': 464, 'issues': 465, 'causing': 466, 'delay': 467, \"you're\": 468, 'wondering': 469, 'question': 470, 'misunderstanding': 471, 'necessary': 472, 'resolve': 473, 'heartfelt': 474, 'responsibility': 475, 'happened': 476, 'shall': 477, 'happen': 478, 'trouble': 479, 'you’ve': 480, 'delays': 481, 'resolving': 482, 'rest': 483, 'assured': 484, 'immediate': 485, 'action': 486, 'rectify': 487, 'prevent': 488, 'recurrence': 489, 'compensation': 490, 'offering': 491, 'alternative': 492, 'base': 493, 'busy': 494, 'deadline': 495, 'close': 496, 'circle': 497, 'aside': 498, 'arrange': 499, 'block': 500, 'calendar': 501, 'half': 502, 'hour': 503, \"3'o\": 504, 'clock': 505, 'availability': 506, 'only': 507, 'between': 508, 'anyone': 509, 'strictly': 510, 'outline': 511, 'same': 512, 'page': 513, 'deadlines': 514, 'avoid': 515, 'misunderstandings': 516, 'rundown': 517, 'attachment': 518, 'earliest': 519, 'required': 520, 'perusal': 521, 'moment': 522, 'wouldn’t': 523, 'difficult': 524, 'deliver': 525, 'effective': 526, 'cheers': 527, 'one': 528, 'until': 529, 'yours': 530, 'warmly': 531, 'catching': 532, 'attention': 533, 'proves': 534, 'useful': 535, 'once': 536, 'cooperation': 537, 'partnership': 538, 'update': 539, 'promptly': 540, 'clarification': 541, 'trip': 542, 'away': 543, 'needed': 544, 'holiday': 545, 'season': 546, 'convention': 547, 'purpose': 548, 'yesterday’s': 549, 'presentation': 550, 'informative': 551, 'concerning': 552, 'connection': 553, 'interaction': 554, 'received': 555, 'went': 556, 'yesterday': 557, 'month': 558, 'suggestion': 559, 'asking': 560, 'longer': 561, 'usual': 562, 'while': 563, 'since': 564, 'condolences': 565, 'inconveniences': 566, 'attachments': 567, 'enclosed': 568, 'made': 569, 'bold': 570, 'red': 571, 'blue': 572, 'comments': 573, 'sent': 574, 'pdf': 575, 'contents': 576, 'form': 577, 'here’s': 578, 'two': 579, 'main': 580, 'below': 581, 'clarifications': 582, 'shed': 583, 'topic': 584, 'clarify': 585, 'feature': 586, 'mistaken': 587, 'mean': 588, 'words': 589, 'phrases': 590, 'someone': 591, 'told': 592, 'notifying': 593, 'note': 594, 'informed': 595, 'posted': 596, 'updated': 597, 'approval': 598, 'ok': 599, 'thumbs': 600, 'green': 601, 'totally': 602, 'ahead': 603, 'he': 604, 'approved': 605, 'monday': 606, 'convenient': 607, 'interview': 608, 'rescheduled': 609, 'cannot': 610, 'careful': 611, 'decision': 612, 'rain': 613, 'seems': 614, 'unlikely': 615, 'put': 616, 'despite': 617, 'putting': 618, 'answered': 619, 'there’s': 620, 'okay': 621, 'confident': 622, 'problem': 623, 'trust': 624, 'inquiry': 625, 'accepting': 626, 'applications': 627, 'graduate': 628, 'program': 629, 'endeavors': 630, 'refrain': 631, 'window': 632, 'desk': 633, 'each': 634, 'night': 635, 'water': 636, 'cubicle': 637, 'saw': 638, 'own': 639, 'operate': 640, 'twenty': 641, 'minutes': 642, 'carry': 643, 'pricing': 644, 'few': 645, 'slots': 646, 'which': 647, 'crucial': 648, 'aspect': 649, 'however': 650, 'consuming': 651, 'challenging': 652, 'where': 653, 'easy': 654, 'hours': 655, 'otherwise': 656, 'instead': 657, 'addition': 658, 'quality': 659, 'analyzing': 660, 'generating': 661, 'improvement': 662, 'recommend': 663, 'trying': 664, 'signing': 665, 'trial': 666, 'began': 667, 'article': 668, 'strong': 669, 'opinions': 670, 'conducted': 671, 'research': 672, 'realized': 673, 'most': 674, 'completing': 675, 'intensive': 676, 'confidently': 677, 'changed': 678, 'fact': 679, 'piece': 680, 'maintain': 681, 'ways': 682, 'discovered': 683, 'freelance': 684, 'writer': 685, 'restaurant': 686, 'hospitality': 687, 'brands': 688, 'include': 689, 'lose': 690, 'track': 691, 'list': 692, 'discovery': 693, 'found': 694, 'profile': 695, 'seeing': 696, 'opening': 697, 'latest': 698, 'across': 699, 'researching': 700, 'particularly': 701, 'fit': 702, 'company’s': 703, 'needs': 704, 'background': 705, 'contribute': 706, 'success': 707, 'brief': 708, 'connecting': 709, 'seen': 710, 'grow': 711, 'looks': 712, 'thriving': 713, 'currently': 714, 'passion': 715, 'peers': 716, 'strengthened': 717, 'skill': 718, 'mutually': 719, 'beneficial': 720, 'course': 721, 'challenge': 722, 'experiences': 723, 'short': 724, 'virtual': 725, 'weeks': 726, 'possibility': 727, 'buy': 728, 'appointment': 729, 'guide': 730, 'features': 731, 'tiktok': 732, 'awaits': 733, 'order': 734, 'cart': 735, 'claim': 736, 'join': 737, 'community': 738, 'upgrade': 739, 'services': 740, 'blog': 741, 'works': 742, 'watch': 743, 'testimonials': 744, 'faqs': 745, 'view': 746, 'resources': 747, 'social': 748, 'friends': 749, 'spread': 750, 'word': 751, 'followers': 752, 'facebook': 753, 'tag': 754, 'friend': 755, 'snap': 756, 'opinion': 757, 'voice': 758, 'invitation': 759, 'deals': 760, 'unlock': 761, 'ideal': 762, 'quote': 763, 'lovely': 764, 'transition': 765, 'learned': 766, 'aren’t': 767, 'huge': 768, 'growth': 769, 'exciting': 770, 'colleagues': 771, 'afforded': 772, 'proud': 773, 'year': 774, 'although': 775, 'chapter': 776, 'goodbye': 777, 'person': 778, 'sad': 779, 'excellent': 780, 'coworkers': 781, 'joy': 782, 'part': 783, 'spending': 784, 'freedom': 785, 'chats': 786, 'cheering': 787, 'retirement': 788, 'internship': 789, 'helped': 790, 'couldn’t': 791, 'bittersweet': 792, 'embark': 793, 'mentorship': 794, 'invaluable': 795, 'emailing': 796, 'account': 797, 'come': 798, 'fever': 799, 'checking': 800, 'emails': 801, 'urgent': 802, 'cell': 803, 'phone': 804, 'aim': 805, 'illness': 806, 'being': 807, 'formally': 808, 'period': 809, 'medical': 810, 'condition': 811, 'arisen': 812, 'doctor': 813, 'extended': 814, 'off': 815, 'recover': 816, 'expected': 817, 'smooth': 818, 'workflow': 819, 'refunded': 820, 'funds': 821, 'should': 822, 'promo': 823, 'code': 824, 'unpleasant': 825, 'frustration': 826, 'forwarded': 827, 'complaint': 828, 'management': 829, 'never': 830, 'happens': 831, 'discounts': 832, 'annual': 833, 'coding': 834, 'conference': 835, 'university': 836, 'ticket': 837, 'price': 838, 'too': 839, 'high': 840, 'educational': 841, 'complete': 842, 'projects': 843, 'pending': 844, 'tasks': 845, 'vacation': 846, 'website': 847, 'still': 848, 'guest': 849, 'mobile': 850, 'industry': 851, 'audience': 852, 'collaborating': 853, 'she': 854, 'providing': 855, 'technical': 856, 'users': 857, 'enjoy': 858, 'greet': 859}\n"
     ]
    }
   ],
   "source": [
    "tokenizer = Tokenizer()\n",
    "from tensorflow.keras.preprocessing.sequence import pad_sequences\n",
    "\n",
    "# assigns each word a unique number/index\n",
    "tokenizer.fit_on_texts(prompts.phrases)\n",
    "\n",
    "print(tokenizer.word_index)\n",
    "# for s in tokenizer.word_index:\n",
    "    # print(s for s )\n",
    "# help(tokenizer)\n",
    "\n",
    "# print(tokenizer.word_index['Hey'])"
   ]
  },
  {
   "cell_type": "code",
   "execution_count": 4,
   "metadata": {
    "id": "44VahqKdAjr9"
   },
   "outputs": [
    {
     "name": "stdout",
     "output_type": "stream",
     "text": [
      "[[  0   0   0 ...   0   0 287]\n",
      " [  0   0   0 ...   0   0 288]\n",
      " [  0   0   0 ...   0   0 289]\n",
      " ...\n",
      " [  0   0   0 ...   0 101  59]\n",
      " [  0   0   0 ... 101  59   1]\n",
      " [  0   0   0 ...  59   1 859]]\n"
     ]
    }
   ],
   "source": [
    "def sentence_to_padded_sequences(phrases):\n",
    "    \n",
    "  input_sequences = []\n",
    "  # loop for each given sentence in list of sentences phrases\n",
    "  for phrase in phrases:\n",
    "    \n",
    "    # texts_to_sequences convert the sentence to list of indexes corresponding to word in dictionary\n",
    "    tokenized_sentence = tokenizer.texts_to_sequences([phrase])[0]\n",
    "    # print(tokenized_sentence)\n",
    "    # training for each sentence by iterating over no. of words taken to train in an iteration\n",
    "    for i in range(len(tokenized_sentence)):\n",
    "      input_sequences.append(tokenized_sentence[:i+1])\n",
    "  global vectorLength \n",
    "  vectorLength = max([len(x) for x in input_sequences])\n",
    "  \n",
    "  # empty list of sequences initialized\n",
    "  padded_input_sequences = []\n",
    "  \n",
    "  # padded_input_sequences put zeroes in place of empty words\n",
    "  # e.g. my sentence is                      -   \"I hope this email finds you well\"\n",
    "  # after mapping to index in dectionary     -   \"3  42   7    28    444   2  212\"  \n",
    "  # padding of zeros are added in beginnning -   \"0 0 0 0 0 0 0 0 0 0 0 0 0 0 0 0 0 0 3 42 7 28 444 2 212\" \n",
    "  # now the length of vector becomes 25 with zeros added\n",
    "  padded_input_sequences = pad_sequences(input_sequences, maxlen = vectorLength, padding='pre')\n",
    "  return padded_input_sequences\n",
    "\n",
    "X = sentence_to_padded_sequences(prompts.phrases)\n",
    "print(X)\n",
    "# print(X[24])"
   ]
  },
  {
   "cell_type": "code",
   "execution_count": 5,
   "metadata": {
    "id": "rs1NPitwSgzk"
   },
   "outputs": [
    {
     "name": "stdout",
     "output_type": "stream",
     "text": [
      "[287 288 289 ...  59   1 859]\n"
     ]
    }
   ],
   "source": [
    "X = sentence_to_padded_sequences(prompts.phrases)[:,:-1]\n",
    "y = sentence_to_padded_sequences(prompts.phrases)[:,-1]\n",
    "print(y)\n",
    "dictionaryLength = len(tokenizer.word_index)\n",
    "\n",
    "from tensorflow.keras.utils import to_categorical\n",
    "\n",
    "# convert the desired values to an array where all values are zero except at dictionary index which is one\n",
    "y = to_categorical(y,num_classes=dictionaryLength+1)"
   ]
  },
  {
   "cell_type": "code",
   "execution_count": 8,
   "metadata": {
    "scrolled": true
   },
   "outputs": [
    {
     "data": {
      "image/png": "[encoded data removed]",
      "text/plain": [
       "<IPython.core.display.Image object>"
      ]
     },
     "execution_count": 8,
     "metadata": {},
     "output_type": "execute_result"
    }
   ],
   "source": [
    "from tensorflow.keras.models import Sequential\n",
    "from tensorflow.keras.layers import Embedding, LSTM, Dense\n",
    "\n",
    "# creating our LSTM model\n",
    "model = Sequential()\n",
    "model.add(Embedding(dictionaryLength+1, 400, input_length=vectorLength-1))\n",
    "model.add(LSTM(dictionaryLength+1))\n",
    "model.add(Dense( dictionaryLength+1, activation='sigmoid'))\n",
    "\n",
    "model.compile(loss='categorical_crossentropy', optimizer='adam',metrics=['accuracy'])\n",
    "# model.summary()\n",
    "tf.keras.utils.plot_model(model)"
   ]
  },
  {
   "cell_type": "code",
   "execution_count": 9,
   "metadata": {
    "colab": {
     "base_uri": "https://localhost:8080/"
    },
    "id": "LpFUCALCfJRR",
    "outputId": "96d67a78-3c2e-4462-b2a8-2655c303af8d",
    "scrolled": true
   },
   "outputs": [
    {
     "name": "stdout",
     "output_type": "stream",
     "text": [
      "Epoch 1/10\n",
      "WARNING:tensorflow:From C:\\Users\\Sachit\\AppData\\Roaming\\Python\\Python311\\site-packages\\keras\\src\\utils\\tf_utils.py:492: The name tf.ragged.RaggedTensorValue is deprecated. Please use tf.compat.v1.ragged.RaggedTensorValue instead.\n",
      "\n",
      "WARNING:tensorflow:From C:\\Users\\Sachit\\AppData\\Roaming\\Python\\Python311\\site-packages\\keras\\src\\engine\\base_layer_utils.py:384: The name tf.executing_eagerly_outside_functions is deprecated. Please use tf.compat.v1.executing_eagerly_outside_functions instead.\n",
      "\n",
      "151/151 [==============================] - 81s 448ms/step - loss: 5.7166 - accuracy: 0.0735\n",
      "Epoch 2/10\n",
      "151/151 [==============================] - 66s 438ms/step - loss: 4.9335 - accuracy: 0.1347\n",
      "Epoch 3/10\n",
      "151/151 [==============================] - 61s 407ms/step - loss: 4.1224 - accuracy: 0.2167\n",
      "Epoch 4/10\n",
      "151/151 [==============================] - 63s 416ms/step - loss: 3.2874 - accuracy: 0.3216\n",
      "Epoch 5/10\n",
      "151/151 [==============================] - 56s 369ms/step - loss: 2.5132 - accuracy: 0.4252\n",
      "Epoch 6/10\n",
      "151/151 [==============================] - 64s 422ms/step - loss: 1.8653 - accuracy: 0.5643\n",
      "Epoch 7/10\n",
      "151/151 [==============================] - 65s 427ms/step - loss: 1.4340 - accuracy: 0.6687\n",
      "Epoch 8/10\n",
      "151/151 [==============================] - 61s 402ms/step - loss: 1.2309 - accuracy: 0.7129\n",
      "Epoch 9/10\n",
      "151/151 [==============================] - 58s 384ms/step - loss: 1.1249 - accuracy: 0.7343\n",
      "Epoch 10/10\n",
      "151/151 [==============================] - 60s 400ms/step - loss: 1.0629 - accuracy: 0.7480\n"
     ]
    },
    {
     "data": {
      "text/plain": [
       "<keras.src.callbacks.History at 0x208926f1750>"
      ]
     },
     "execution_count": 9,
     "metadata": {},
     "output_type": "execute_result"
    }
   ],
   "source": [
    "model.fit(X,y,epochs=10)\n",
    "\n"
   ]
  },
  {
   "cell_type": "code",
   "execution_count": 10,
   "metadata": {
    "colab": {
     "base_uri": "https://localhost:8080/"
    },
    "id": "PGeYGwCMfTus",
    "outputId": "2d508555-b83e-470e-e7e5-1b5c10cce70b"
   },
   "outputs": [
    {
     "name": "stdout",
     "output_type": "stream",
     "text": [
      "1/1 [==============================] - 2s 2s/step\n",
      "0.99998933\n",
      "could you please\n",
      "1/1 [==============================] - 0s 59ms/step\n",
      "0.99991584\n",
      "could you please repeat\n",
      "1/1 [==============================] - 0s 137ms/step\n",
      "0.9999583\n",
      "could you please repeat what\n",
      "1/1 [==============================] - 0s 54ms/step\n",
      "0.9999882\n",
      "could you please repeat what you\n",
      "1/1 [==============================] - 0s 64ms/step\n",
      "0.9999573\n",
      "could you please repeat what you said\n"
     ]
    }
   ],
   "source": [
    "def predict(sentence: str):\n",
    "    \"\"\"\n",
    "    Prints the word predictions based on a given sentence, limited to a maximum of N words\n",
    "    ## Parameters\n",
    "    sentence : string which is the initial sentence \n",
    "    \"\"\"\n",
    "    for i in range(5):\n",
    "        \n",
    "        # tokenize\n",
    "        token_text = tokenizer.texts_to_sequences([sentence])[0]\n",
    "        \n",
    "        # padding\n",
    "        padded_token_text = pad_sequences([token_text], maxlen=vectorLength-1, padding='pre')\n",
    "        \n",
    "        # predict\n",
    "        arr = model.predict(padded_token_text)\n",
    "        print(max(arr[0]))\n",
    "\n",
    "        # if it is predicting 6th word and if it's probability is lower than 0.2 it should not predict word as it will be absurd predictions\n",
    "        if(max(arr[0]) < 0.20 and i>4):\n",
    "            break\n",
    "        pos = np.argmax(arr)\n",
    "        for word,index in tokenizer.word_index.items():\n",
    "            if index == pos:\n",
    "                sentence = sentence + \" \" + word\n",
    "                print(sentence)\n",
    "\n",
    "\n",
    "text = \"could you\"\n",
    "predict(text)"
   ]
  },
  {
   "cell_type": "code",
   "execution_count": 14,
   "metadata": {},
   "outputs": [
    {
     "name": "stdout",
     "output_type": "stream",
     "text": [
      "1/1 [==============================] - 0s 57ms/step\n",
      "0.9999481\n",
      "i have attached\n",
      "1/1 [==============================] - 0s 58ms/step\n",
      "0.999972\n",
      "i have attached the\n",
      "1/1 [==============================] - 0s 54ms/step\n",
      "0.9999935\n",
      "i have attached the required\n",
      "1/1 [==============================] - 0s 80ms/step\n",
      "0.9999968\n",
      "i have attached the required documents\n",
      "1/1 [==============================] - 0s 86ms/step\n",
      "0.99999845\n",
      "i have attached the required documents for\n"
     ]
    }
   ],
   "source": [
    "predict(\"i have\")"
   ]
  },
  {
   "cell_type": "code",
   "execution_count": 20,
   "metadata": {},
   "outputs": [
    {
     "name": "stdout",
     "output_type": "stream",
     "text": [
      "1/1 [==============================] - 0s 94ms/step\n",
      "0.9999182\n",
      "to whom it\n",
      "1/1 [==============================] - 0s 72ms/step\n",
      "0.9999902\n",
      "to whom it may\n",
      "1/1 [==============================] - 0s 71ms/step\n",
      "0.99999696\n",
      "to whom it may concern\n",
      "1/1 [==============================] - 0s 66ms/step\n",
      "0.99946356\n",
      "to whom it may concern some\n",
      "1/1 [==============================] - 0s 75ms/step\n",
      "0.99999034\n",
      "to whom it may concern some additional\n"
     ]
    }
   ],
   "source": [
    "predict(\"to whom\")"
   ]
  },
  {
   "cell_type": "code",
   "execution_count": 11,
   "metadata": {},
   "outputs": [],
   "source": [
    "# import json\n",
    "# saving the model and the dictionary in the extension folder\n",
    "# import joblib\n",
    "# joblib.dump(model, \"./extension/model\")\n",
    "# model.save(\"./extension/model.h5\")\n",
    "# tokenizer_json = tokenizer.to_json()\n",
    "# with open('./extension/tokenizer.json', 'w', encoding='utf-8') as f:\n",
    "#     f.write(json.dumps(tokenizer_json, ensure_ascii=True))"
   ]
  },
  {
   "cell_type": "code",
   "execution_count": 12,
   "metadata": {},
   "outputs": [],
   "source": [
    "# model.save(\"model\")\n",
    "# import tensorflowjs\n",
    "# tensorflowjs.converters.save_keras_model(model, \"extension\")\n",
    "# model_json = model.to_json()\n",
    "# with open(\"./extension/model.json\", \"w\") as f:\n",
    "#     json.dump(model_json, f, indent=4)"
   ]
  }
 ],
 "metadata": {
  "colab": {
   "provenance": []
  },
  "kernelspec": {
   "display_name": "Python 3 (ipykernel)",
   "language": "python",
   "name": "python3"
  },
  "language_info": {
   "codemirror_mode": {
    "name": "ipython",
    "version": 3
   },
   "file_extension": ".py",
   "mimetype": "text/x-python",
   "name": "python",
   "nbconvert_exporter": "python",
   "pygments_lexer": "ipython3",
   "version": "3.11.3"
  }
 },
 "nbformat": 4,
 "nbformat_minor": 1
}

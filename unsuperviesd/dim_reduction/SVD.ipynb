{
 "cells": [
  {
   "cell_type": "markdown",
   "metadata": {},
   "source": [
    "# Singular Value Decomposition(SVD)\n",
    "A = U * S * V<sup>T</sup>  \n",
    "where U and V are unitary matrices  \n",
    "U = AA<sup>T</sup>  \n",
    "V = A<sup>T</sup>A  \n",
    "A<sup>T</sup>A and AA<sup>T</sup> are\n",
    "1. non-negative positive definite matrix(eigen values >= 0)\n",
    "2. similar matrices - as their eigen values are same even if their dimension are different (A & B are similar if A = M<sup>-1</sup>*B*M)"
   ]
  },
  {
   "cell_type": "code",
   "execution_count": 32,
   "metadata": {},
   "outputs": [],
   "source": [
    "import numpy as np\n",
    "A = np.array([[5,5],[-1,7]])"
   ]
  },
  {
   "cell_type": "markdown",
   "metadata": {},
   "source": [
    "U = AA<sup>T</sup> = (USV<sup>T</sup>)(USV<sup>T</sup>)<sup>T</sup>  \n",
    "U = AA<sup>T</sup> = USV<sup>T</sup>VS<sup>T</sup>U<sup>T</sup>         (since V<sup>T</sup>V = I)    \n",
    "U = AA<sup>T</sup> = USS<sup>T</sup>U<sup>T</sup>    \n",
    "similarly,  \n",
    "V = A<sup>T</sup>A = (USV<sup>T</sup>)<sup>T</sup>(USV<sup>T</sup>)  \n",
    "V = A<sup>T</sup>A = VS<sup>T</sup>U<sup>T</sup>USV<sup>T</sup>         (since U<sup>T</sup>U = I)  \n",
    "V = A<sup>T</sup>A = VS<sup>T</sup>SV<sup>T</sup>  <br><br>\n",
    "\n",
    "calculate \n",
    "V = eigen vectors of (A<sup>T</sup>A)  and  \n",
    "S = eigen values of (A<sup>T</sup>A)"
   ]
  },
  {
   "cell_type": "code",
   "execution_count": 40,
   "metadata": {},
   "outputs": [
    {
     "name": "stdout",
     "output_type": "stream",
     "text": [
      "[[-0.9486833  -0.31622777]\n",
      " [ 0.31622777 -0.9486833 ]]\n",
      "[20. 80.]\n"
     ]
    }
   ],
   "source": [
    "S, V = np.linalg.eig(A.T.dot(A))\n",
    "print(V)\n",
    "print(S)"
   ]
  },
  {
   "cell_type": "markdown",
   "metadata": {},
   "source": [
    "calculate U  \n",
    "AV = USV<sup>T</sup>V = US"
   ]
  },
  {
   "cell_type": "code",
   "execution_count": 42,
   "metadata": {},
   "outputs": [
    {
     "name": "stdout",
     "output_type": "stream",
     "text": [
      "[[-0.70710678 -0.70710678]\n",
      " [ 0.70710678 -0.70710678]]\n"
     ]
    }
   ],
   "source": [
    "U = A.dot(V)\n",
    "for i, val in enumerate(np.sqrt(S)):\n",
    "    U[:,i] = U[:,i]/val\n",
    "print(U)\n",
    "S = np.diag(S)"
   ]
  },
  {
   "cell_type": "code",
   "execution_count": 46,
   "metadata": {},
   "outputs": [
    {
     "name": "stdout",
     "output_type": "stream",
     "text": [
      "[[-0.70710678 -0.70710678]\n",
      " [ 0.70710678 -0.70710678]]\n",
      "[[20.  0.]\n",
      " [ 0. 80.]]\n",
      "[[-0.9486833   0.31622777]\n",
      " [-0.31622777 -0.9486833 ]]\n"
     ]
    }
   ],
   "source": [
    "print(U)\n",
    "print(S)\n",
    "print(V.T)"
   ]
  }
 ],
 "metadata": {
  "kernelspec": {
   "display_name": "Python 3",
   "language": "python",
   "name": "python3"
  },
  "language_info": {
   "codemirror_mode": {
    "name": "ipython",
    "version": 3
   },
   "file_extension": ".py",
   "mimetype": "text/x-python",
   "name": "python",
   "nbconvert_exporter": "python",
   "pygments_lexer": "ipython3",
   "version": "3.11.3"
  }
 },
 "nbformat": 4,
 "nbformat_minor": 2
}
